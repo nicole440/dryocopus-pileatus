{
 "cells": [
  {
   "attachments": {},
   "cell_type": "markdown",
   "metadata": {},
   "source": [
    "## Local Hotspots (Berks, Lancaster, Lebanon)"
   ]
  },
  {
   "attachments": {},
   "cell_type": "markdown",
   "metadata": {},
   "source": [
    "### Import libraries and configure environment"
   ]
  },
  {
   "cell_type": "code",
   "execution_count": null,
   "metadata": {},
   "outputs": [],
   "source": [
    "import requests\n",
    "import pandas as pd\n",
    "import os\n",
    "\n",
    "from hotspot_transform import transform_columns, transform_single_location_data\n",
    "from get_local_hotspots import fetch_hotspot_data\n",
    "\n",
    "from dotenv import load_dotenv\n",
    "load_dotenv()\n",
    "api_key = os.environ.get('EBIRD_API_KEY')"
   ]
  },
  {
   "attachments": {},
   "cell_type": "markdown",
   "metadata": {},
   "source": [
    "### Get birding hotspots by county and assign response to DataFrame"
   ]
  },
  {
   "cell_type": "code",
   "execution_count": null,
   "metadata": {},
   "outputs": [],
   "source": [
    "# Refactored to keep code DRY\n",
    "\n",
    "# Fetches Berks County birding hotspots (in JSON format)\n",
    "# berks_hotspots_url = 'https://api.ebird.org/v2/ref/hotspot/US-PA-011?fmt=json'\n",
    "# response = requests.get(berks_hotspots_url, params=api_key)\n",
    "\n",
    "# berks_hotspots_data = response.json()\n",
    "\n",
    "# berks_hotspots_df = pd.DataFrame(berks_hotspots_data)\n",
    "# berks_hotspots_df.head()\n",
    "\n",
    "\n",
    "# Fetches Lancaster County birding hotspots (in JSON format)\n",
    "# lanc_hotspots_url = 'https://api.ebird.org/v2/ref/hotspot/US-PA-071?fmt=json'\n",
    "# response = requests.get(lanc_hotspots_url, params=api_key)\n",
    "\n",
    "# lanc_hotspots_data = response.json()\n",
    "\n",
    "# lanc_hotspots_df = pd.DataFrame(lanc_hotspots_data)\n",
    "# lanc_hotspots_df.head()\n",
    "\n",
    "\n",
    "# Fetches Lebanon County birding hotspots (in JSON format)\n",
    "# leb_hotspots_url = 'https://api.ebird.org/v2/ref/hotspot/US-PA-075?fmt=json'\n",
    "# response = requests.get(leb_hotspots_url, params=api_key)\n",
    "\n",
    "# leb_hotspots_data = response.json()\n",
    "\n",
    "# leb_hotspots_df = pd.DataFrame(leb_hotspots_data)\n",
    "# leb_hotspots_df.head()"
   ]
  },
  {
   "attachments": {},
   "cell_type": "markdown",
   "metadata": {},
   "source": [
    "### Get local county birding hotspots"
   ]
  },
  {
   "cell_type": "code",
   "execution_count": null,
   "metadata": {},
   "outputs": [],
   "source": [
    "# Fetches Berks, Lancaster, and Lebanon County birding hotspots (in JSON format)\n",
    "hotspots = [\"US-PA-011\", \"US-PA-071\", \"US-PA-075\"]\n",
    "all_hotspots_df = fetch_hotspot_data(hotspots)"
   ]
  },
  {
   "cell_type": "code",
   "execution_count": null,
   "metadata": {},
   "outputs": [],
   "source": [
    "all_hotspots_df.tail()"
   ]
  },
  {
   "attachments": {},
   "cell_type": "markdown",
   "metadata": {},
   "source": [
    "### Transform\n",
    "- Drop unnecessary columns\n",
    "- Rename columns for clarity\n",
    "\n",
    "- Remove duplicate entries"
   ]
  },
  {
   "cell_type": "code",
   "execution_count": null,
   "metadata": {},
   "outputs": [],
   "source": [
    "# Remove any duplicates from DataFrame\n",
    "hotspots_deduplicated_df = all_hotspots_df.drop_duplicates(keep='first')\n",
    "\n",
    "# Drop unnecessary columns from DataFrame and rename remaining columns for clarity\n",
    "hotspots_transformed_df = transform_columns(hotspots_deduplicated_df)\n",
    "\n",
    "hotspots_transformed_df.head()"
   ]
  },
  {
   "attachments": {},
   "cell_type": "markdown",
   "metadata": {},
   "source": [
    "### Compile responses to CSV file"
   ]
  },
  {
   "cell_type": "code",
   "execution_count": null,
   "metadata": {},
   "outputs": [],
   "source": [
    "# Append the hotspot data to the CSV file\n",
    "hotspots_transformed_df.to_csv('local_hotspots_data.csv', mode='a', index=True)"
   ]
  },
  {
   "attachments": {},
   "cell_type": "markdown",
   "metadata": {},
   "source": [
    "### Get information about a specific hotspot"
   ]
  },
  {
   "cell_type": "code",
   "execution_count": null,
   "metadata": {},
   "outputs": [],
   "source": [
    "location = os.environ.get('LOCATION')\n",
    "\n",
    "# Fetch details of a particular hotspot\n",
    "hotspot_info_url = 'https://api.ebird.org/v2/ref/hotspot/info/' + location\n",
    "response = requests.get(hotspot_info_url, params=api_key)\n",
    "\n",
    "# Handle potential JSONDecodeError\n",
    "try:\n",
    "    hotspot_info_data = response.json()\n",
    "except requests.exceptions.JSONDecodeError:\n",
    "    print(\"Error decoding JSON response for hotspot_info:\")\n",
    "    print(response.text)\n",
    "    exit(1)"
   ]
  },
  {
   "attachments": {},
   "cell_type": "markdown",
   "metadata": {},
   "source": [
    "#### Assign response to DataFrame"
   ]
  },
  {
   "cell_type": "code",
   "execution_count": null,
   "metadata": {},
   "outputs": [],
   "source": [
    "# Data is returned as a dictionary so it needs to be wrapped in a list to convert it to a DataFrame\n",
    "hotspot_df = pd.DataFrame([hotspot_info_data])\n",
    "\n",
    "hotspot_df_transformed = transform_single_location_data(hotspot_df)\n",
    "hotspot_df_transformed.head()"
   ]
  },
  {
   "cell_type": "code",
   "execution_count": null,
   "metadata": {},
   "outputs": [],
   "source": [
    "# TODO If I care to clean up the columns in this one too, I'll need a separate function since this response is a bit wonky\n",
    "\n",
    "select_df_transformed = transform_columns(hotspot_df)\n",
    "select_df_transformed.head()"
   ]
  }
 ],
 "metadata": {
  "kernelspec": {
   "display_name": "Python 3",
   "language": "python",
   "name": "python3"
  },
  "language_info": {
   "codemirror_mode": {
    "name": "ipython",
    "version": 3
   },
   "file_extension": ".py",
   "mimetype": "text/x-python",
   "name": "python",
   "nbconvert_exporter": "python",
   "pygments_lexer": "ipython3",
   "version": "3.11.3"
  },
  "orig_nbformat": 4
 },
 "nbformat": 4,
 "nbformat_minor": 2
}
