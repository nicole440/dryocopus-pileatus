{
 "cells": [
  {
   "attachments": {},
   "cell_type": "markdown",
   "metadata": {},
   "source": [
    "## Local Hotspots (Berks, Lancaster, Lebanon)"
   ]
  },
  {
   "attachments": {},
   "cell_type": "markdown",
   "metadata": {},
   "source": [
    "### Import libraries and configure environment"
   ]
  },
  {
   "cell_type": "code",
   "execution_count": null,
   "metadata": {},
   "outputs": [],
   "source": [
    "import requests\n",
    "import pandas as pd\n",
    "import os\n",
    "\n",
    "from hotspot_transform import transform_columns\n",
    "\n",
    "from dotenv import load_dotenv\n",
    "load_dotenv()\n",
    "api_key = os.environ.get('EBIRD_API_KEY')"
   ]
  },
  {
   "attachments": {},
   "cell_type": "markdown",
   "metadata": {},
   "source": [
    "### Get Berks County birding hotspots and assign response to DataFrame"
   ]
  },
  {
   "cell_type": "code",
   "execution_count": null,
   "metadata": {},
   "outputs": [],
   "source": [
    "# Fetches Berks County birding hotspots (in JSON format)\n",
    "berks_hotspots_url = 'https://api.ebird.org/v2/ref/hotspot/US-PA-011?fmt=json'\n",
    "response = requests.get(berks_hotspots_url, params=api_key)\n",
    "\n",
    "berks_hotspots_data = response.json()\n",
    "\n",
    "berks_hotspots_df = pd.DataFrame(berks_hotspots_data)\n",
    "berks_hotspots_df.head()"
   ]
  },
  {
   "attachments": {},
   "cell_type": "markdown",
   "metadata": {},
   "source": [
    "### Get Lancaster County birding hotspots and assign response to DataFrame"
   ]
  },
  {
   "cell_type": "code",
   "execution_count": null,
   "metadata": {},
   "outputs": [],
   "source": [
    "# Fetches Lancaster County birding hotspots (in JSON format)\n",
    "lanc_hotspots_url = 'https://api.ebird.org/v2/ref/hotspot/US-PA-071?fmt=json'\n",
    "response = requests.get(lanc_hotspots_url, params=api_key)\n",
    "\n",
    "lanc_hotspots_data = response.json()\n",
    "\n",
    "lanc_hotspots_df = pd.DataFrame(lanc_hotspots_data)\n",
    "lanc_hotspots_df.head()"
   ]
  },
  {
   "attachments": {},
   "cell_type": "markdown",
   "metadata": {},
   "source": [
    "### Get Lebanon County birding hotspots and assign response to DataFrame"
   ]
  },
  {
   "cell_type": "code",
   "execution_count": null,
   "metadata": {},
   "outputs": [],
   "source": [
    "# Fetches Lebanon County birding hotspots (in JSON format)\n",
    "leb_hotspots_url = 'https://api.ebird.org/v2/ref/hotspot/US-PA-075?fmt=json'\n",
    "response = requests.get(leb_hotspots_url, params=api_key)\n",
    "\n",
    "leb_hotspots_data = response.json()\n",
    "\n",
    "leb_hotspots_df = pd.DataFrame(leb_hotspots_data)\n",
    "leb_hotspots_df.head()"
   ]
  },
  {
   "attachments": {},
   "cell_type": "markdown",
   "metadata": {},
   "source": [
    "### Transform\n",
    "- Drop unnecessary columns\n",
    "- Rename columns for clarity"
   ]
  },
  {
   "cell_type": "code",
   "execution_count": null,
   "metadata": {},
   "outputs": [],
   "source": [
    "berks_df_transformed = transform_columns(berks_hotspots_df)\n",
    "lanc_df_transformed = transform_columns(lanc_hotspots_df)\n",
    "leb_df_transformed = transform_columns(leb_hotspots_df)"
   ]
  },
  {
   "attachments": {},
   "cell_type": "markdown",
   "metadata": {},
   "source": [
    "### Compile responses to CSV file\n",
    "*Note: The code below will continue to append each API response to the CSV file every time it is run, so be aware of duplicate entries*"
   ]
  },
  {
   "cell_type": "code",
   "execution_count": null,
   "metadata": {},
   "outputs": [],
   "source": [
    "berks_df_transformed.to_csv('local_hotspots_data.csv', index=True)\n",
    "lanc_df_transformed.to_csv('local_hotspots_data.csv', mode='a', index=True)\n",
    "leb_df_transformed.to_csv('local_hotspots_data.csv', mode='a', index=True)"
   ]
  },
  {
   "attachments": {},
   "cell_type": "markdown",
   "metadata": {},
   "source": [
    "### Get information about a specific hotspot"
   ]
  },
  {
   "cell_type": "code",
   "execution_count": null,
   "metadata": {},
   "outputs": [],
   "source": [
    "location = os.environ.get('LOCATION')\n",
    "\n",
    "# Fetch details of a particular hotspot\n",
    "hotspot_info_url = 'https://api.ebird.org/v2/ref/hotspot/info/' + location\n",
    "response = requests.get(hotspot_info_url, params=api_key)\n",
    "\n",
    "# Handle potential JSONDecodeError\n",
    "try:\n",
    "    hotspot_info_data = response.json()\n",
    "except requests.exceptions.JSONDecodeError:\n",
    "    print(\"Error decoding JSON response for hotspot_info:\")\n",
    "    print(response.text)\n",
    "    exit(1)"
   ]
  },
  {
   "attachments": {},
   "cell_type": "markdown",
   "metadata": {},
   "source": [
    "#### Assign response to DataFrame"
   ]
  },
  {
   "cell_type": "code",
   "execution_count": null,
   "metadata": {},
   "outputs": [],
   "source": [
    "# Data is returned as a dictionary so it needs to be wrapped in a list to convert it to a DataFrame\n",
    "hotspot_df = pd.DataFrame([hotspot_info_data])\n",
    "\n",
    "hotspot_df.head()"
   ]
  },
  {
   "cell_type": "code",
   "execution_count": null,
   "metadata": {},
   "outputs": [],
   "source": [
    "# TODO If I care to clean up the columns in this one too, I'll need a separate function since this response is a bit wonky\n",
    "\n",
    "select_df_transformed = transform_columns(hotspot_df)\n",
    "select_df_transformed.head()"
   ]
  }
 ],
 "metadata": {
  "kernelspec": {
   "display_name": "Python 3",
   "language": "python",
   "name": "python3"
  },
  "language_info": {
   "codemirror_mode": {
    "name": "ipython",
    "version": 3
   },
   "file_extension": ".py",
   "mimetype": "text/x-python",
   "name": "python",
   "nbconvert_exporter": "python",
   "pygments_lexer": "ipython3",
   "version": "3.11.3"
  },
  "orig_nbformat": 4
 },
 "nbformat": 4,
 "nbformat_minor": 2
}
