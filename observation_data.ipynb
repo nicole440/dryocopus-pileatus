{
 "cells": [
  {
   "attachments": {},
   "cell_type": "markdown",
   "metadata": {},
   "source": [
    "# Bird Observation Data"
   ]
  },
  {
   "attachments": {},
   "cell_type": "markdown",
   "metadata": {},
   "source": [
    "### Import libraries and configure environment variable"
   ]
  },
  {
   "cell_type": "code",
   "execution_count": 32,
   "metadata": {},
   "outputs": [],
   "source": [
    "import requests\n",
    "import csv\n",
    "import pandas as pd\n",
    "\n",
    "import os\n",
    "from sqlalchemy import create_engine, Table, Column, String, MetaData, Date, Integer, Boolean\n",
    "from sqlalchemy.orm import sessionmaker\n",
    "\n",
    "from dotenv import load_dotenv\n",
    "load_dotenv()\n",
    "api_key = os.environ.get('EBIRD_API_KEY')"
   ]
  },
  {
   "attachments": {},
   "cell_type": "markdown",
   "metadata": {},
   "source": [
    "### GET Requests to eBird API"
   ]
  },
  {
   "cell_type": "code",
   "execution_count": 33,
   "metadata": {},
   "outputs": [],
   "source": [
    "# Fetches all recent recorded observations in PA\n",
    "recent_observations_url = 'https://api.ebird.org/v2/data/obs/US-PA/recent'\n",
    "recent_observations_params = {'key': os.environ.get('EBIRD_API_KEY')}\n",
    "recent_observations = requests.get(recent_observations_url, params=recent_observations_params)\n",
    "\n",
    "# Handle potential JSONDecodeError\n",
    "try:\n",
    "    recent_observations_data = recent_observations.json()\n",
    "except requests.exceptions.JSONDecodeError:\n",
    "    print(\"Error decoding JSON response for recent_observations:\")\n",
    "    print(recent_observations.text)\n",
    "    exit(1)"
   ]
  },
  {
   "cell_type": "code",
   "execution_count": 34,
   "metadata": {},
   "outputs": [],
   "source": [
    "# Fetches PA birding hotspots (in JSON format)\n",
    "pa_hotspots_url = 'https://api.ebird.org/v2/ref/hotspot/US-PA?fmt=json'\n",
    "pa_hotspots_params = {'key': os.environ.get('EBIRD_API_KEY')}\n",
    "pa_hotspots = requests.get(pa_hotspots_url, params=pa_hotspots_params)\n",
    "\n",
    "# Handle potential JSONDecodeError\n",
    "try:\n",
    "    pa_hotspots_data = pa_hotspots.json()\n",
    "except requests.exceptions.JSONDecodeError:\n",
    "    print(\"Error decoding JSON response for pa_hotspots:\")\n",
    "    print(pa_hotspots.text)\n",
    "    exit(1)"
   ]
  },
  {
   "cell_type": "code",
   "execution_count": 35,
   "metadata": {},
   "outputs": [],
   "source": [
    "# # Fetches details about particular hotspot\n",
    "# # This won't work until I have a location ID\n",
    "# hotspot_info_url = 'https://api.ebird.org/v2/ref/hotspot/info/{locId}'\n",
    "# hotspot_info_params = {'key': os.environ.get('EBIRD_API_KEY')}\n",
    "# hotspot_info = requests.get(hotspot_info_url, params=hotspot_info_params)\n",
    "\n",
    "# # Handle potential JSONDecodeError\n",
    "# try:\n",
    "#     hotspot_info_data = hotspot_info.json()\n",
    "# except requests.exceptions.JSONDecodeError:\n",
    "#     print(\"Error decoding JSON response for hotspot_info:\")\n",
    "#     print(hotspot_info.text)\n",
    "#     exit(1)"
   ]
  },
  {
   "attachments": {},
   "cell_type": "markdown",
   "metadata": {},
   "source": [
    "### Create DataFrames"
   ]
  },
  {
   "cell_type": "code",
   "execution_count": 36,
   "metadata": {},
   "outputs": [],
   "source": [
    "# Create a DataFrame to hold API observation response data\n",
    "pa_observations_df = pd.DataFrame(recent_observations_data)\n",
    "\n",
    "# Create a DataFrame to hold API response data for list of PA hotspots\n",
    "pa_hotspots_df = pd.DataFrame(pa_hotspots_data)\n",
    "\n",
    "# # Create a DataFrame to hold API response for hotspot location info\n",
    "# hotspot_info_df = pd.DataFrame(hotspot_info_data)"
   ]
  },
  {
   "attachments": {},
   "cell_type": "markdown",
   "metadata": {},
   "source": [
    "### Clean Returned Data"
   ]
  },
  {
   "cell_type": "code",
   "execution_count": 37,
   "metadata": {},
   "outputs": [],
   "source": [
    "# Drop unneeded columns from observation data\n",
    "\n",
    "# Specify the columns to be dropped\n",
    "columns_to_drop = ['obsValid', 'obsReviewed', 'subId', 'exoticCategory']\n",
    "\n",
    "# Drop the specified columns from the DataFrame\n",
    "pa_observations_df = pa_observations_df.drop(columns=columns_to_drop)"
   ]
  },
  {
   "cell_type": "code",
   "execution_count": 38,
   "metadata": {},
   "outputs": [],
   "source": [
    "# Drop unneeded columns from the hotspot data\n",
    "\n",
    "# Specify the columns to be dropped\n",
    "columns_to_drop = ['countryCode', 'subnational1Code']\n",
    "\n",
    "# Drop the specified columns from the DataFrame\n",
    "pa_hotspots_df = pa_hotspots_df.drop(columns=columns_to_drop)"
   ]
  },
  {
   "cell_type": "code",
   "execution_count": 39,
   "metadata": {},
   "outputs": [],
   "source": [
    "# Rename columns for clarity in observation data\n",
    "pa_observations_df = pa_observations_df.rename(columns={'speciesCode': 'Species_Code', 'comName': 'Common_Name', 'sciName': 'Scientific_Name', \n",
    "                                                        'locId': 'Location_ID', 'locName': 'Location_Name', 'obsDt' : 'Observation_Date', \n",
    "                                                        'howMany': 'Quantity_Observed', 'lat': 'Latitude', 'lng': 'Longitude', \n",
    "                                                        'locationPrivate': 'Location_Private'})"
   ]
  },
  {
   "cell_type": "code",
   "execution_count": 40,
   "metadata": {},
   "outputs": [
    {
     "name": "stdout",
     "output_type": "stream",
     "text": [
      "  Species_Code      Common_Name       Scientific_Name Location_ID   \n",
      "0       scatan  Scarlet Tanager      Piranga olivacea   L25341349  \\\n",
      "1       blujay         Blue Jay   Cyanocitta cristata   L25341349   \n",
      "2       amerob   American Robin    Turdus migratorius   L25341349   \n",
      "3      reevir1   Red-eyed Vireo       Vireo olivaceus   L25341349   \n",
      "4       woothr      Wood Thrush  Hylocichla mustelina   L25341349   \n",
      "\n",
      "                                       Location_Name  Observation_Date   \n",
      "0  2–84 Lobbs Run Rd, Finleyville US-PA 40.25513,...  2023-06-20 05:52  \\\n",
      "1  2–84 Lobbs Run Rd, Finleyville US-PA 40.25513,...  2023-06-20 05:52   \n",
      "2  2–84 Lobbs Run Rd, Finleyville US-PA 40.25513,...  2023-06-20 05:52   \n",
      "3  2–84 Lobbs Run Rd, Finleyville US-PA 40.25513,...  2023-06-20 05:52   \n",
      "4  2–84 Lobbs Run Rd, Finleyville US-PA 40.25513,...  2023-06-20 05:52   \n",
      "\n",
      "   Quantity_Observed  Latitude  Longitude  Location_Private  \n",
      "0                1.0  40.25513   -79.9584              True  \n",
      "1                1.0  40.25513   -79.9584              True  \n",
      "2                3.0  40.25513   -79.9584              True  \n",
      "3                3.0  40.25513   -79.9584              True  \n",
      "4                2.0  40.25513   -79.9584              True  \n"
     ]
    }
   ],
   "source": [
    "print(pa_observations_df.head())"
   ]
  },
  {
   "cell_type": "code",
   "execution_count": 41,
   "metadata": {},
   "outputs": [],
   "source": [
    "# Rename columns for clarity in hotspot data\n",
    "pa_hotspots_df = pa_hotspots_df.rename(columns={'locId': 'Location_ID', 'locName': 'Location_Name', 'subnational2Code': 'Sub-National_Code',\n",
    "                                                 'lat': 'Latitude', 'lng': 'Longitude', 'latestObsDt': 'Date_of_Most_Recent_Observation', \n",
    "                                                 'numSpeciesAllTime': 'Total_Species_Recorded_at_Location'})"
   ]
  },
  {
   "attachments": {},
   "cell_type": "markdown",
   "metadata": {},
   "source": [
    "### Write cleaned data to CSV files"
   ]
  },
  {
   "cell_type": "code",
   "execution_count": 42,
   "metadata": {},
   "outputs": [],
   "source": [
    "# Write recent observations response to a CSV file\n",
    "pa_observations_df.to_csv('recent_observations.csv', index=True)\n",
    "\n",
    "# Write PA hotspot response to a CSV file\n",
    "pa_hotspots_df.to_csv('pa_hotspots_data.csv', index=True)"
   ]
  },
  {
   "attachments": {},
   "cell_type": "markdown",
   "metadata": {},
   "source": [
    "### Write observation data from Pandas DataFrame to SQLite database"
   ]
  },
  {
   "attachments": {},
   "cell_type": "markdown",
   "metadata": {},
   "source": [
    "#### Create SQLite Database"
   ]
  },
  {
   "cell_type": "code",
   "execution_count": 43,
   "metadata": {},
   "outputs": [
    {
     "data": {
      "text/plain": [
       "<sqlite3.Cursor at 0x13281013a40>"
      ]
     },
     "execution_count": 43,
     "metadata": {},
     "output_type": "execute_result"
    }
   ],
   "source": [
    "import sqlite3\n",
    "\n",
    "# Specify column names\n",
    "column_names = ['Species_Code', 'Common_Name', 'Scientific_Name', 'Location_ID', 'Location_Name',\n",
    "                'Observation_Date', 'Quantity_Observed', 'Latitude', 'Longitude', 'Location_Private']\n",
    "\n",
    "connection = sqlite3.connect(\"observation-data.db\")\n",
    "cursor = connection.cursor()\n",
    "\n",
    "cursor.execute(\"DROP TABLE IF EXISTS Observations;\")\n",
    "\n",
    "# Create the table with the appropriate columns\n",
    "create_table_query = \"CREATE TABLE Observations ({})\".format(\", \".join(column_names))\n",
    "cursor.execute(create_table_query)"
   ]
  },
  {
   "attachments": {},
   "cell_type": "markdown",
   "metadata": {},
   "source": [
    "#### Write data to database"
   ]
  },
  {
   "cell_type": "code",
   "execution_count": 44,
   "metadata": {},
   "outputs": [],
   "source": [
    "# Insert values from the DataFrame into the table\n",
    "\n",
    "for i in range(len(pa_observations_df)):\n",
    "    cursor.execute(\"INSERT INTO Observations VALUES (?, ?, ?, ?, ?, ?, ?, ?, ?, ?)\", pa_observations_df.iloc[i])\n",
    "\n",
    "connection.commit()\n",
    "\n",
    "connection.close()"
   ]
  },
  {
   "attachments": {},
   "cell_type": "markdown",
   "metadata": {},
   "source": [
    "### Write observation data from CSV file to PostgreSQL database"
   ]
  },
  {
   "cell_type": "code",
   "execution_count": 45,
   "metadata": {},
   "outputs": [],
   "source": [
    "# from sqlalchemy import Integer\n",
    "\n",
    "# # PostgreSQL database connection details from .env file\n",
    "# host = os.getenv('PG_HOST')\n",
    "# database = os.getenv('PG_DATABASE')\n",
    "# user = os.getenv('PG_USER')\n",
    "# password = os.getenv('PG_PASSWORD')\n",
    "\n",
    "# # Create SQLAlchemy engine\n",
    "# engine = create_engine(f'postgresql://{user}:{password}@{host}/{database}', pool_pre_ping=True)\n",
    "\n",
    "# # Create a session factory\n",
    "# Session = sessionmaker(bind=engine)\n",
    "# session = Session()\n",
    "\n",
    "# # Type conversion of Location_ID column to remove preceding L, if necessary, to store the number as an integer.\n",
    "# pa_observations_df['Location_ID'] = pa_observations_df['Location_ID'].astype(str).apply(lambda x: int(x[1:]) if x.startswith('L') else int(x))\n",
    "\n",
    "# # Create SQLAlchemy table object\n",
    "# metadata = MetaData()\n",
    "# table = Table(\n",
    "#     'Recent_Observations',\n",
    "#     metadata,\n",
    "#     Column('Index', Integer, primary_key=True, autoincrement=True),\n",
    "#     Column('Species_Code', String),\n",
    "#     Column('Common_Name', String),\n",
    "#     Column('Scientific_Name', String),\n",
    "#     Column('Location_ID', Integer),\n",
    "#     Column('Location_Name', String),\n",
    "#     Column('Observation_Date', String),\n",
    "#     Column('Quantity_Observed', Integer),\n",
    "#     Column('Latitude', String),\n",
    "#     Column('Longitude', String),\n",
    "#     Column('Location_Private', Boolean)\n",
    "# )\n",
    "\n",
    "# metadata.create_all(engine)\n",
    "\n",
    "# # Insert the DataFrame into the database table\n",
    "# try:\n",
    "#     with engine.begin() as connection:\n",
    "#         for index, row in pa_observations_df.iterrows():\n",
    "#             print(\"Inserting row: \", row) # for debugging\n",
    "#             insert_stmt = table.insert().values(\n",
    "#                 Species_Code=row['Species_Code'],\n",
    "#                 Common_Name=row['Common_Name'],\n",
    "#                 Scientific_Name=row['Scientific_Name'],\n",
    "#                 Location_ID=row['Location_ID'],\n",
    "#                 Location_Name=row['Location_Name'],\n",
    "#                 Observation_Date=row['Observation_Date'],\n",
    "#                 Quantity_Observed=int(row['Quantity_Observed']),\n",
    "#                 Latitude=float(row['Latitude']),\n",
    "#                 Longitude=float(row['Longitude']),\n",
    "#                 Location_Private=bool(row['Location_Private'])\n",
    "#             )\n",
    "#             connection.execute(insert_stmt)\n",
    "\n",
    "#     print(\"Data insertion successful!\")\n",
    "# except Exception as e:\n",
    "#     print(\"An error occurred during data insertion:\", str(e))\n",
    "\n",
    "# session.commit()"
   ]
  },
  {
   "cell_type": "code",
   "execution_count": 46,
   "metadata": {},
   "outputs": [
    {
     "data": {
      "text/html": [
       "<div>\n",
       "<style scoped>\n",
       "    .dataframe tbody tr th:only-of-type {\n",
       "        vertical-align: middle;\n",
       "    }\n",
       "\n",
       "    .dataframe tbody tr th {\n",
       "        vertical-align: top;\n",
       "    }\n",
       "\n",
       "    .dataframe thead th {\n",
       "        text-align: right;\n",
       "    }\n",
       "</style>\n",
       "<table border=\"1\" class=\"dataframe\">\n",
       "  <thead>\n",
       "    <tr style=\"text-align: right;\">\n",
       "      <th></th>\n",
       "      <th>Species_Code</th>\n",
       "      <th>Common_Name</th>\n",
       "      <th>Scientific_Name</th>\n",
       "      <th>Location_ID</th>\n",
       "      <th>Location_Name</th>\n",
       "      <th>Observation_Date</th>\n",
       "      <th>Quantity_Observed</th>\n",
       "      <th>Latitude</th>\n",
       "      <th>Longitude</th>\n",
       "      <th>Location_Private</th>\n",
       "    </tr>\n",
       "  </thead>\n",
       "  <tbody>\n",
       "    <tr>\n",
       "      <th>81</th>\n",
       "      <td>pilwoo</td>\n",
       "      <td>Pileated Woodpecker</td>\n",
       "      <td>Dryocopus pileatus</td>\n",
       "      <td>L1160792</td>\n",
       "      <td>Struble Trail/Uwchlan Trail--Dowlin Forge Rd.</td>\n",
       "      <td>2023-06-19 19:46</td>\n",
       "      <td>2.0</td>\n",
       "      <td>40.039814</td>\n",
       "      <td>-75.707031</td>\n",
       "      <td>False</td>\n",
       "    </tr>\n",
       "  </tbody>\n",
       "</table>\n",
       "</div>"
      ],
      "text/plain": [
       "   Species_Code          Common_Name     Scientific_Name Location_ID   \n",
       "81       pilwoo  Pileated Woodpecker  Dryocopus pileatus    L1160792  \\\n",
       "\n",
       "                                    Location_Name  Observation_Date   \n",
       "81  Struble Trail/Uwchlan Trail--Dowlin Forge Rd.  2023-06-19 19:46  \\\n",
       "\n",
       "    Quantity_Observed   Latitude  Longitude  Location_Private  \n",
       "81                2.0  40.039814 -75.707031             False  "
      ]
     },
     "execution_count": 46,
     "metadata": {},
     "output_type": "execute_result"
    }
   ],
   "source": [
    "pa_observations_df[(pa_observations_df.Common_Name == 'Pileated Woodpecker')]"
   ]
  },
  {
   "cell_type": "code",
   "execution_count": 47,
   "metadata": {},
   "outputs": [
    {
     "data": {
      "text/plain": [
       "Species_Code          object\n",
       "Common_Name           object\n",
       "Scientific_Name       object\n",
       "Location_ID           object\n",
       "Location_Name         object\n",
       "Observation_Date      object\n",
       "Quantity_Observed    float64\n",
       "Latitude             float64\n",
       "Longitude            float64\n",
       "Location_Private        bool\n",
       "dtype: object"
      ]
     },
     "execution_count": 47,
     "metadata": {},
     "output_type": "execute_result"
    }
   ],
   "source": [
    "pa_observations_df.dtypes"
   ]
  },
  {
   "cell_type": "code",
   "execution_count": 48,
   "metadata": {},
   "outputs": [
    {
     "data": {
      "text/html": [
       "<div>\n",
       "<style scoped>\n",
       "    .dataframe tbody tr th:only-of-type {\n",
       "        vertical-align: middle;\n",
       "    }\n",
       "\n",
       "    .dataframe tbody tr th {\n",
       "        vertical-align: top;\n",
       "    }\n",
       "\n",
       "    .dataframe thead th {\n",
       "        text-align: right;\n",
       "    }\n",
       "</style>\n",
       "<table border=\"1\" class=\"dataframe\">\n",
       "  <thead>\n",
       "    <tr style=\"text-align: right;\">\n",
       "      <th></th>\n",
       "      <th>Location_ID</th>\n",
       "      <th>Location_Name</th>\n",
       "      <th>Sub-National_Code</th>\n",
       "      <th>Latitude</th>\n",
       "      <th>Longitude</th>\n",
       "      <th>Date_of_Most_Recent_Observation</th>\n",
       "      <th>Total_Species_Recorded_at_Location</th>\n",
       "    </tr>\n",
       "  </thead>\n",
       "  <tbody>\n",
       "    <tr>\n",
       "      <th>0</th>\n",
       "      <td>L2163298</td>\n",
       "      <td>7 Stars Ln. Detention Basin/Cross County Trail...</td>\n",
       "      <td>US-PA-091</td>\n",
       "      <td>40.099870</td>\n",
       "      <td>-75.296814</td>\n",
       "      <td>2023-05-17 10:44</td>\n",
       "      <td>82.0</td>\n",
       "    </tr>\n",
       "    <tr>\n",
       "      <th>1</th>\n",
       "      <td>L2813556</td>\n",
       "      <td>Abington Art Center Grounds</td>\n",
       "      <td>US-PA-091</td>\n",
       "      <td>40.092486</td>\n",
       "      <td>-75.116165</td>\n",
       "      <td>2023-05-10 17:20</td>\n",
       "      <td>76.0</td>\n",
       "    </tr>\n",
       "    <tr>\n",
       "      <th>2</th>\n",
       "      <td>L794018</td>\n",
       "      <td>Acme Dam/Chestnut Ridge Park</td>\n",
       "      <td>US-PA-129</td>\n",
       "      <td>40.118712</td>\n",
       "      <td>-79.426861</td>\n",
       "      <td>2023-05-13 12:50</td>\n",
       "      <td>132.0</td>\n",
       "    </tr>\n",
       "    <tr>\n",
       "      <th>3</th>\n",
       "      <td>L4347393</td>\n",
       "      <td>Acri Meadow Park</td>\n",
       "      <td>US-PA-041</td>\n",
       "      <td>40.270741</td>\n",
       "      <td>-76.951815</td>\n",
       "      <td>2023-06-13 19:34</td>\n",
       "      <td>86.0</td>\n",
       "    </tr>\n",
       "    <tr>\n",
       "      <th>4</th>\n",
       "      <td>L4899414</td>\n",
       "      <td>Adam T. Bower Memorial Dam (Northumberland Co.)</td>\n",
       "      <td>US-PA-097</td>\n",
       "      <td>40.849573</td>\n",
       "      <td>-76.806986</td>\n",
       "      <td>2023-06-12 17:40</td>\n",
       "      <td>151.0</td>\n",
       "    </tr>\n",
       "  </tbody>\n",
       "</table>\n",
       "</div>"
      ],
      "text/plain": [
       "  Location_ID                                      Location_Name   \n",
       "0    L2163298  7 Stars Ln. Detention Basin/Cross County Trail...  \\\n",
       "1    L2813556                        Abington Art Center Grounds   \n",
       "2     L794018                       Acme Dam/Chestnut Ridge Park   \n",
       "3    L4347393                                   Acri Meadow Park   \n",
       "4    L4899414    Adam T. Bower Memorial Dam (Northumberland Co.)   \n",
       "\n",
       "  Sub-National_Code   Latitude  Longitude Date_of_Most_Recent_Observation   \n",
       "0         US-PA-091  40.099870 -75.296814                2023-05-17 10:44  \\\n",
       "1         US-PA-091  40.092486 -75.116165                2023-05-10 17:20   \n",
       "2         US-PA-129  40.118712 -79.426861                2023-05-13 12:50   \n",
       "3         US-PA-041  40.270741 -76.951815                2023-06-13 19:34   \n",
       "4         US-PA-097  40.849573 -76.806986                2023-06-12 17:40   \n",
       "\n",
       "   Total_Species_Recorded_at_Location  \n",
       "0                                82.0  \n",
       "1                                76.0  \n",
       "2                               132.0  \n",
       "3                                86.0  \n",
       "4                               151.0  "
      ]
     },
     "execution_count": 48,
     "metadata": {},
     "output_type": "execute_result"
    }
   ],
   "source": [
    "pa_hotspots_df.head()"
   ]
  },
  {
   "cell_type": "code",
   "execution_count": 49,
   "metadata": {},
   "outputs": [
    {
     "data": {
      "image/png": "[encoded data removed]",
      "text/plain": [
       "<Figure size 640x480 with 1 Axes>"
      ]
     },
     "metadata": {},
     "output_type": "display_data"
    }
   ],
   "source": [
    "from matplotlib import pyplot as plt\n",
    "import numpy as np\n",
    "\n",
    "total_species_at_hotspots = pa_hotspots_df['Total_Species_Recorded_at_Location'].values\n",
    "\n",
    "plt.hist(total_species_at_hotspots)\n",
    "plt.title('Total Species Recorded at Each Hotspot')\n",
    "plt.xlabel('Hotspot')\n",
    "plt.ylabel('Number of Species Recorded')\n",
    "plt.show()\n",
    "\n",
    "# This histogram makes zero sense analytically, but hey, at least I have a histogram now!\n"
   ]
  }
 ],
 "metadata": {
  "kernelspec": {
   "display_name": "Python 3",
   "language": "python",
   "name": "python3"
  },
  "language_info": {
   "codemirror_mode": {
    "name": "ipython",
    "version": 3
   },
   "file_extension": ".py",
   "mimetype": "text/x-python",
   "name": "python",
   "nbconvert_exporter": "python",
   "pygments_lexer": "ipython3",
   "version": "3.11.3"
  },
  "orig_nbformat": 4
 },
 "nbformat": 4,
 "nbformat_minor": 2
}
