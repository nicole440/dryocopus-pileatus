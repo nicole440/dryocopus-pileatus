{
 "cells": [
  {
   "cell_type": "markdown",
   "metadata": {},
   "source": [
    "# Bird Observation Data"
   ]
  },
  {
   "cell_type": "markdown",
   "metadata": {},
   "source": [
    "### Import libraries and configure environment variable"
   ]
  },
  {
   "cell_type": "code",
   "execution_count": 1,
   "metadata": {},
   "outputs": [],
   "source": [
    "import requests\n",
    "import pandas as pd\n",
    "import os\n",
    "\n",
    "from dotenv import load_dotenv\n",
    "load_dotenv()\n",
    "api_key = os.environ.get('EBIRD_API_KEY')"
   ]
  },
  {
   "cell_type": "markdown",
   "metadata": {},
   "source": [
    "### GET Requests to eBird API"
   ]
  },
  {
   "cell_type": "code",
   "execution_count": 2,
   "metadata": {},
   "outputs": [],
   "source": [
    "# Fetches all recent recorded observations in PA\n",
    "recent_observations_url = 'https://api.ebird.org/v2/data/obs/US-PA/recent'\n",
    "recent_observations_params = {'key': os.environ.get('EBIRD_API_KEY')}\n",
    "recent_observations = requests.get(recent_observations_url, params=recent_observations_params)\n",
    "\n",
    "# Handle potential JSONDecodeError\n",
    "try:\n",
    "    recent_observations_data = recent_observations.json()\n",
    "except requests.exceptions.JSONDecodeError:\n",
    "    print(\"Error decoding JSON response for recent_observations:\")\n",
    "    print(recent_observations.text)\n",
    "    exit(1)"
   ]
  },
  {
   "cell_type": "markdown",
   "metadata": {},
   "source": [
    "### Create DataFrames"
   ]
  },
  {
   "cell_type": "code",
   "execution_count": 3,
   "metadata": {},
   "outputs": [],
   "source": [
    "# Create a DataFrame to hold API response data\n",
    "pa_observations_df = pd.DataFrame(recent_observations_data)"
   ]
  },
  {
   "attachments": {},
   "cell_type": "markdown",
   "metadata": {},
   "source": [
    "### Transform\n",
    "- Drop unnecessary columns\n",
    "- Rename columns for clarity\n",
    "- Remove duplicate data"
   ]
  },
  {
   "cell_type": "code",
   "execution_count": 4,
   "metadata": {},
   "outputs": [],
   "source": [
    "# Drop unneeded columns from observation data and rename remaining for clarity\n",
    "\n",
    "# Specify the columns to be dropped\n",
    "columns_to_drop = ['obsValid', 'obsReviewed', 'exoticCategory']\n",
    "# Drop the specified columns from the DataFrame\n",
    "pa_observations_df = pa_observations_df.drop(columns=columns_to_drop)\\\n",
    "                                        .rename(columns={'speciesCode': 'species_code', 'comName': 'common_name', 'sciName': 'scientific_name', \n",
    "                                                        'locId': 'location_id', 'locName': 'location_name', 'obsDt' : 'observation_date', \n",
    "                                                        'howMany': 'quantity_observed', 'lat': 'latitude', 'lng': 'longitude', \n",
    "                                                        'locationPrivate': 'location_private', 'subId': 'submission_id'})"
   ]
  },
  {
   "cell_type": "code",
   "execution_count": 5,
   "metadata": {},
   "outputs": [],
   "source": [
    "# Remove duplicate entries from DataFrame\n",
    "pa_observations_deduplicated_df = pa_observations_df.drop_duplicates(keep='first')\n",
    "\n",
    "# Transform NaN values in the 'Quantity_Observed' column to a default value of 1\n",
    "pa_observations_deduplicated_df['quantity_observed'].fillna(1, inplace=True)"
   ]
  },
  {
   "cell_type": "code",
   "execution_count": 6,
   "metadata": {},
   "outputs": [
    {
     "name": "stdout",
     "output_type": "stream",
     "text": [
      "  species_code             common_name         scientific_name location_id   \n",
      "0       indbun          Indigo Bunting        Passerina cyanea   L17711128  \\\n",
      "1       norpar         Northern Parula     Setophaga americana   L17711128   \n",
      "2       chswar  Chestnut-sided Warbler  Setophaga pensylvanica   L17711128   \n",
      "3       swathr       Swainson's Thrush      Catharus ustulatus   L17711128   \n",
      "4      ovenbi1                Ovenbird     Seiurus aurocapilla   L17711128   \n",
      "\n",
      "                            location_name  observation_date   \n",
      "0  Greycar Rion Memorial Refuge (my yard)  2023-09-27 00:00  \\\n",
      "1  Greycar Rion Memorial Refuge (my yard)  2023-09-27 00:00   \n",
      "2  Greycar Rion Memorial Refuge (my yard)  2023-09-27 00:00   \n",
      "3  Greycar Rion Memorial Refuge (my yard)  2023-09-27 00:00   \n",
      "4  Greycar Rion Memorial Refuge (my yard)  2023-09-27 00:00   \n",
      "\n",
      "   quantity_observed   latitude  longitude  location_private submission_id  \n",
      "0                1.0  39.848812 -75.518015              True    S150842201  \n",
      "1                1.0  39.848812 -75.518015              True    S150842201  \n",
      "2                1.0  39.848812 -75.518015              True    S150842201  \n",
      "3                1.0  39.848812 -75.518015              True    S150842201  \n",
      "4                1.0  39.848812 -75.518015              True    S150842201  \n"
     ]
    }
   ],
   "source": [
    "print(pa_observations_deduplicated_df.head())"
   ]
  },
  {
   "attachments": {},
   "cell_type": "markdown",
   "metadata": {},
   "source": [
    "### Write/append data to CSV files"
   ]
  },
  {
   "cell_type": "code",
   "execution_count": 7,
   "metadata": {},
   "outputs": [],
   "source": [
    "# Append de-duplicated recent observations data to a CSV file\n",
    "import csv\n",
    "# pa_observations_deduplicated_df.to_csv('recent_observations.csv', index=False)\n",
    "pa_observations_deduplicated_df.to_csv('recent_observations.csv', mode='a', header=True, index=False)"
   ]
  },
  {
   "cell_type": "markdown",
   "metadata": {},
   "source": [
    "### Write observation data from Pandas DataFrame to SQLite database"
   ]
  },
  {
   "cell_type": "markdown",
   "metadata": {},
   "source": [
    "#### Create SQLite Database"
   ]
  },
  {
   "cell_type": "code",
   "execution_count": 8,
   "metadata": {},
   "outputs": [
    {
     "data": {
      "text/plain": [
       "<sqlite3.Cursor at 0x1b483414dc0>"
      ]
     },
     "execution_count": 8,
     "metadata": {},
     "output_type": "execute_result"
    }
   ],
   "source": [
    "import sqlite3\n",
    "\n",
    "# Specify column names\n",
    "column_names = ['species_code', 'common_name', 'scientific_name', 'location_id', 'location_name',\n",
    "                'observation_date', 'quantity_observed', 'latitude', 'longitude', 'location_private', 'submission_id']\n",
    "\n",
    "connection = sqlite3.connect(\"pa-observation-data.db\")\n",
    "cursor = connection.cursor()\n",
    "\n",
    "cursor.execute(\"DROP TABLE IF EXISTS Observations;\")\n",
    "\n",
    "# Create the table with the appropriate columns\n",
    "create_table_query = \"CREATE TABLE Observations ({})\".format(\", \".join(column_names))\n",
    "cursor.execute(create_table_query)"
   ]
  },
  {
   "cell_type": "markdown",
   "metadata": {},
   "source": [
    "#### Write data to database"
   ]
  },
  {
   "cell_type": "code",
   "execution_count": 9,
   "metadata": {},
   "outputs": [],
   "source": [
    "# Insert values from the DataFrame into the table\n",
    "for i in range(len(pa_observations_deduplicated_df)):\n",
    "    cursor.execute(\"INSERT INTO Observations VALUES (?, ?, ?, ?, ?, ?, ?, ?, ?, ?, ?)\", pa_observations_deduplicated_df.iloc[i])\n",
    "\n",
    "connection.commit()\n",
    "connection.close()"
   ]
  },
  {
   "cell_type": "code",
   "execution_count": 10,
   "metadata": {},
   "outputs": [
    {
     "data": {
      "text/html": [
       "<div>\n",
       "<style scoped>\n",
       "    .dataframe tbody tr th:only-of-type {\n",
       "        vertical-align: middle;\n",
       "    }\n",
       "\n",
       "    .dataframe tbody tr th {\n",
       "        vertical-align: top;\n",
       "    }\n",
       "\n",
       "    .dataframe thead th {\n",
       "        text-align: right;\n",
       "    }\n",
       "</style>\n",
       "<table border=\"1\" class=\"dataframe\">\n",
       "  <thead>\n",
       "    <tr style=\"text-align: right;\">\n",
       "      <th></th>\n",
       "      <th>species_code</th>\n",
       "      <th>common_name</th>\n",
       "      <th>scientific_name</th>\n",
       "      <th>location_id</th>\n",
       "      <th>location_name</th>\n",
       "      <th>observation_date</th>\n",
       "      <th>quantity_observed</th>\n",
       "      <th>latitude</th>\n",
       "      <th>longitude</th>\n",
       "      <th>location_private</th>\n",
       "      <th>submission_id</th>\n",
       "    </tr>\n",
       "  </thead>\n",
       "  <tbody>\n",
       "    <tr>\n",
       "      <th>78</th>\n",
       "      <td>pilwoo</td>\n",
       "      <td>Pileated Woodpecker</td>\n",
       "      <td>Dryocopus pileatus</td>\n",
       "      <td>L7915631</td>\n",
       "      <td>Rothrock SF--West Chestnut St.</td>\n",
       "      <td>2023-09-26 18:10</td>\n",
       "      <td>1.0</td>\n",
       "      <td>40.729845</td>\n",
       "      <td>-77.887658</td>\n",
       "      <td>False</td>\n",
       "      <td>S150829509</td>\n",
       "    </tr>\n",
       "  </tbody>\n",
       "</table>\n",
       "</div>"
      ],
      "text/plain": [
       "   species_code          common_name     scientific_name location_id   \n",
       "78       pilwoo  Pileated Woodpecker  Dryocopus pileatus    L7915631  \\\n",
       "\n",
       "                     location_name  observation_date  quantity_observed   \n",
       "78  Rothrock SF--West Chestnut St.  2023-09-26 18:10                1.0  \\\n",
       "\n",
       "     latitude  longitude  location_private submission_id  \n",
       "78  40.729845 -77.887658             False    S150829509  "
      ]
     },
     "execution_count": 10,
     "metadata": {},
     "output_type": "execute_result"
    }
   ],
   "source": [
    "# home = os.environ.get('LOCATION')\n",
    "# pa_observations_df[(pa_observations_df.Location_ID == home)]\n",
    "\n",
    "# Confirm most recent recorded observation of Pileated Woodpecker\n",
    "pa_observations_deduplicated_df[(pa_observations_deduplicated_df.common_name == 'Pileated Woodpecker')]"
   ]
  },
  {
   "cell_type": "code",
   "execution_count": 11,
   "metadata": {},
   "outputs": [
    {
     "data": {
      "text/plain": [
       "species_code          object\n",
       "common_name           object\n",
       "scientific_name       object\n",
       "location_id           object\n",
       "location_name         object\n",
       "observation_date      object\n",
       "quantity_observed    float64\n",
       "latitude             float64\n",
       "longitude            float64\n",
       "location_private        bool\n",
       "submission_id         object\n",
       "dtype: object"
      ]
     },
     "execution_count": 11,
     "metadata": {},
     "output_type": "execute_result"
    }
   ],
   "source": [
    "pa_observations_deduplicated_df.dtypes"
   ]
  },
  {
   "cell_type": "markdown",
   "metadata": {},
   "source": [
    "### Write observation data from CSV file to PostgreSQL database"
   ]
  },
  {
   "cell_type": "code",
   "execution_count": 12,
   "metadata": {},
   "outputs": [
    {
     "name": "stdout",
     "output_type": "stream",
     "text": [
      "Data insertion successful!\n"
     ]
    }
   ],
   "source": [
    "from sqlalchemy import create_engine\n",
    "\n",
    "# PostgreSQL database connection details from .env file\n",
    "host = os.getenv('PG_HOST')\n",
    "database = os.getenv('PG_DATABASE')\n",
    "user = os.getenv('PG_USER')\n",
    "password = os.getenv('PG_PASSWORD')\n",
    "\n",
    "# Create SQLAlchemy engine\n",
    "engine = create_engine(f'postgresql://{user}:{password}@{host}/{database}', pool_pre_ping=True)\n",
    "\n",
    "# Type conversion of Location_ID column to remove preceding L, if necessary, to store the number as an integer.\n",
    "pa_observations_deduplicated_df['location_id'] = pa_observations_deduplicated_df['location_id'].astype(str).apply(lambda x: int(x[1:]) if x.startswith('L') else int(x))\n",
    "\n",
    "table_name = \"recent_observations\"\n",
    "try:\n",
    "    pa_observations_deduplicated_df.to_sql(table_name, engine, if_exists='append', index=False)\n",
    "    print(\"Data insertion successful!\")\n",
    "except Exception as e:\n",
    "    print(\"An error occurred during data insertion:\", str(e))"
   ]
  }
 ],
 "metadata": {
  "kernelspec": {
   "display_name": "Python 3 (ipykernel)",
   "language": "python",
   "name": "python3"
  },
  "language_info": {
   "codemirror_mode": {
    "name": "ipython",
    "version": 3
   },
   "file_extension": ".py",
   "mimetype": "text/x-python",
   "name": "python",
   "nbconvert_exporter": "python",
   "pygments_lexer": "ipython3",
   "version": "3.11.5"
  }
 },
 "nbformat": 4,
 "nbformat_minor": 2
}
