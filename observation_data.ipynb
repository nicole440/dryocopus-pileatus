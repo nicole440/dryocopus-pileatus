{
 "cells": [
  {
   "cell_type": "markdown",
   "metadata": {},
   "source": [
    "# Bird Observation Data"
   ]
  },
  {
   "cell_type": "markdown",
   "metadata": {},
   "source": [
    "### Import libraries and configure environment variable"
   ]
  },
  {
   "cell_type": "code",
   "execution_count": null,
   "metadata": {},
   "outputs": [],
   "source": [
    "import requests\n",
    "import pandas as pd\n",
    "import os\n",
    "\n",
    "from dotenv import load_dotenv\n",
    "load_dotenv()\n",
    "api_key = os.environ.get('EBIRD_API_KEY')"
   ]
  },
  {
   "cell_type": "markdown",
   "metadata": {},
   "source": [
    "### GET Requests to eBird API"
   ]
  },
  {
   "cell_type": "code",
   "execution_count": null,
   "metadata": {},
   "outputs": [],
   "source": [
    "# Fetches all recent recorded observations in PA\n",
    "recent_observations_url = 'https://api.ebird.org/v2/data/obs/US-PA/recent'\n",
    "recent_observations_params = {'key': os.environ.get('EBIRD_API_KEY')}\n",
    "recent_observations = requests.get(recent_observations_url, params=recent_observations_params)\n",
    "\n",
    "# Handle potential JSONDecodeError\n",
    "try:\n",
    "    recent_observations_data = recent_observations.json()\n",
    "except requests.exceptions.JSONDecodeError:\n",
    "    print(\"Error decoding JSON response for recent_observations:\")\n",
    "    print(recent_observations.text)\n",
    "    exit(1)"
   ]
  },
  {
   "cell_type": "markdown",
   "metadata": {},
   "source": [
    "### Create DataFrames"
   ]
  },
  {
   "cell_type": "code",
   "execution_count": null,
   "metadata": {},
   "outputs": [],
   "source": [
    "# Create a DataFrame to hold API response data\n",
    "pa_observations_df = pd.DataFrame(recent_observations_data)"
   ]
  },
  {
   "attachments": {},
   "cell_type": "markdown",
   "metadata": {},
   "source": [
    "### Transform\n",
    "- Drop unnecessary columns\n",
    "- Rename columns for clarity"
   ]
  },
  {
   "cell_type": "code",
   "execution_count": null,
   "metadata": {},
   "outputs": [],
   "source": [
    "# Drop unneeded columns from observation data\n",
    "\n",
    "# Specify the columns to be dropped\n",
    "columns_to_drop = ['obsValid', 'obsReviewed', 'subId', 'exoticCategory']\n",
    "# Drop the specified columns from the DataFrame\n",
    "pa_observations_df = pa_observations_df.drop(columns=columns_to_drop)\n",
    "\n",
    "# Rename columns for clarity in observation data\n",
    "pa_observations_df = pa_observations_df.rename(columns={'speciesCode': 'Species_Code', 'comName': 'Common_Name', 'sciName': 'Scientific_Name', \n",
    "                                                        'locId': 'Location_ID', 'locName': 'Location_Name', 'obsDt' : 'Observation_Date', \n",
    "                                                        'howMany': 'Quantity_Observed', 'lat': 'Latitude', 'lng': 'Longitude', \n",
    "                                                        'locationPrivate': 'Location_Private'})"
   ]
  },
  {
   "cell_type": "code",
   "execution_count": null,
   "metadata": {},
   "outputs": [],
   "source": [
    "print(pa_observations_df.head())"
   ]
  },
  {
   "attachments": {},
   "cell_type": "markdown",
   "metadata": {},
   "source": [
    "### Write/append data to CSV files"
   ]
  },
  {
   "cell_type": "code",
   "execution_count": null,
   "metadata": {},
   "outputs": [],
   "source": [
    "# Append recent observations response to a CSV file\n",
    "import csv\n",
    "pa_observations_df.to_csv('recent_observations.csv', mode='a', index=True)"
   ]
  },
  {
   "cell_type": "markdown",
   "metadata": {},
   "source": [
    "### Write observation data from Pandas DataFrame to SQLite database"
   ]
  },
  {
   "cell_type": "markdown",
   "metadata": {},
   "source": [
    "#### Create SQLite Database"
   ]
  },
  {
   "cell_type": "code",
   "execution_count": null,
   "metadata": {},
   "outputs": [],
   "source": [
    "import sqlite3\n",
    "\n",
    "# Specify column names\n",
    "column_names = ['Species_Code', 'Common_Name', 'Scientific_Name', 'Location_ID', 'Location_Name',\n",
    "                'Observation_Date', 'Quantity_Observed', 'Latitude', 'Longitude', 'Location_Private']\n",
    "\n",
    "connection = sqlite3.connect(\"pa-observation-data.db\")\n",
    "cursor = connection.cursor()\n",
    "\n",
    "cursor.execute(\"DROP TABLE IF EXISTS Observations;\")\n",
    "\n",
    "# Create the table with the appropriate columns\n",
    "create_table_query = \"CREATE TABLE Observations ({})\".format(\", \".join(column_names))\n",
    "cursor.execute(create_table_query)"
   ]
  },
  {
   "cell_type": "markdown",
   "metadata": {},
   "source": [
    "#### Write data to database"
   ]
  },
  {
   "cell_type": "code",
   "execution_count": null,
   "metadata": {},
   "outputs": [],
   "source": [
    "# Insert values from the DataFrame into the table\n",
    "for i in range(len(pa_observations_df)):\n",
    "    cursor.execute(\"INSERT INTO Observations VALUES (?, ?, ?, ?, ?, ?, ?, ?, ?, ?)\", pa_observations_df.iloc[i])\n",
    "\n",
    "connection.commit()\n",
    "connection.close()"
   ]
  },
  {
   "cell_type": "code",
   "execution_count": null,
   "metadata": {},
   "outputs": [],
   "source": [
    "pa_observations_df[(pa_observations_df.Common_Name == 'Pileated Woodpecker')]"
   ]
  },
  {
   "cell_type": "code",
   "execution_count": null,
   "metadata": {},
   "outputs": [],
   "source": [
    "pa_observations_df.dtypes"
   ]
  },
  {
   "cell_type": "markdown",
   "metadata": {},
   "source": [
    "### Write observation data from CSV file to PostgreSQL database"
   ]
  },
  {
   "cell_type": "code",
   "execution_count": null,
   "metadata": {},
   "outputs": [],
   "source": [
    "# # This is no longer being used because I instead wrote the data to a SQLite database.\n",
    "# # I was having an issue with the data types here, and plan to return to this later to figure it out.\n",
    "\n",
    "# from sqlalchemy import create_engine, Table, Column, String, MetaData, Date, Integer, Boolean\n",
    "# from sqlalchemy.orm import sessionmaker\n",
    "\n",
    "# # PostgreSQL database connection details from .env file\n",
    "# host = os.getenv('PG_HOST')\n",
    "# database = os.getenv('PG_DATABASE')\n",
    "# user = os.getenv('PG_USER')\n",
    "# password = os.getenv('PG_PASSWORD')\n",
    "\n",
    "# # Create SQLAlchemy engine\n",
    "# engine = create_engine(f'postgresql://{user}:{password}@{host}/{database}', pool_pre_ping=True)\n",
    "\n",
    "# # Create a session factory\n",
    "# Session = sessionmaker(bind=engine)\n",
    "# session = Session()\n",
    "\n",
    "# # Type conversion of Location_ID column to remove preceding L, if necessary, to store the number as an integer.\n",
    "# pa_observations_df['Location_ID'] = pa_observations_df['Location_ID'].astype(str).apply(lambda x: int(x[1:]) if x.startswith('L') else int(x))\n",
    "\n",
    "# # Create SQLAlchemy table object\n",
    "# metadata = MetaData()\n",
    "# table = Table(\n",
    "#     'Recent_Observations',\n",
    "#     metadata,\n",
    "#     Column('Index', Integer, primary_key=True, autoincrement=True),\n",
    "#     Column('Species_Code', String),\n",
    "#     Column('Common_Name', String),\n",
    "#     Column('Scientific_Name', String),\n",
    "#     Column('Location_ID', Integer),\n",
    "#     Column('Location_Name', String),\n",
    "#     Column('Observation_Date', String),\n",
    "#     Column('Quantity_Observed', Integer),\n",
    "#     Column('Latitude', String),\n",
    "#     Column('Longitude', String),\n",
    "#     Column('Location_Private', Boolean)\n",
    "# )\n",
    "\n",
    "# metadata.create_all(engine)\n",
    "\n",
    "# # Insert the DataFrame into the database table\n",
    "# try:\n",
    "#     with engine.begin() as connection:\n",
    "#         for index, row in pa_observations_df.iterrows():\n",
    "#             print(\"Inserting row: \", row) # for debugging\n",
    "#             insert_stmt = table.insert().values(\n",
    "#                 Species_Code=row['Species_Code'],\n",
    "#                 Common_Name=row['Common_Name'],\n",
    "#                 Scientific_Name=row['Scientific_Name'],\n",
    "#                 Location_ID=row['Location_ID'],\n",
    "#                 Location_Name=row['Location_Name'],\n",
    "#                 Observation_Date=row['Observation_Date'],\n",
    "#                 Quantity_Observed=int(row['Quantity_Observed']),\n",
    "#                 Latitude=float(row['Latitude']),\n",
    "#                 Longitude=float(row['Longitude']),\n",
    "#                 Location_Private=bool(row['Location_Private'])\n",
    "#             )\n",
    "#             connection.execute(insert_stmt)\n",
    "\n",
    "#     print(\"Data insertion successful!\")\n",
    "# except Exception as e:\n",
    "#     print(\"An error occurred during data insertion:\", str(e))\n",
    "\n",
    "# session.commit()"
   ]
  }
 ],
 "metadata": {
  "kernelspec": {
   "display_name": "Python 3 (ipykernel)",
   "language": "python",
   "name": "python3"
  },
  "language_info": {
   "codemirror_mode": {
    "name": "ipython",
    "version": 3
   },
   "file_extension": ".py",
   "mimetype": "text/x-python",
   "name": "python",
   "nbconvert_exporter": "python",
   "pygments_lexer": "ipython3",
   "version": "3.11.3"
  }
 },
 "nbformat": 4,
 "nbformat_minor": 2
}
