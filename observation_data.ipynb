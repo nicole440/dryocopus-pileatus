{
 "cells": [
  {
   "cell_type": "markdown",
   "metadata": {},
   "source": [
    "# Bird Observation Data"
   ]
  },
  {
   "cell_type": "markdown",
   "metadata": {},
   "source": [
    "### Import libraries and configure environment variable"
   ]
  },
  {
   "cell_type": "code",
   "execution_count": null,
   "metadata": {},
   "outputs": [],
   "source": [
    "import requests\n",
    "import pandas as pd\n",
    "import os\n",
    "\n",
    "from dotenv import load_dotenv\n",
    "load_dotenv()\n",
    "api_key = os.environ.get('EBIRD_API_KEY')"
   ]
  },
  {
   "cell_type": "markdown",
   "metadata": {},
   "source": [
    "### GET Requests to eBird API"
   ]
  },
  {
   "cell_type": "code",
   "execution_count": null,
   "metadata": {},
   "outputs": [],
   "source": [
    "# Fetches all recent recorded observations in PA\n",
    "recent_observations_url = 'https://api.ebird.org/v2/data/obs/US-PA/recent'\n",
    "recent_observations_params = {'key': os.environ.get('EBIRD_API_KEY')}\n",
    "recent_observations = requests.get(recent_observations_url, params=recent_observations_params)\n",
    "\n",
    "# Handle potential JSONDecodeError\n",
    "try:\n",
    "    recent_observations_data = recent_observations.json()\n",
    "except requests.exceptions.JSONDecodeError:\n",
    "    print(\"Error decoding JSON response for recent_observations:\")\n",
    "    print(recent_observations.text)\n",
    "    exit(1)"
   ]
  },
  {
   "cell_type": "markdown",
   "metadata": {},
   "source": [
    "### Create DataFrames"
   ]
  },
  {
   "cell_type": "code",
   "execution_count": null,
   "metadata": {},
   "outputs": [],
   "source": [
    "# Create a DataFrame to hold API response data\n",
    "pa_observations_df = pd.DataFrame(recent_observations_data)"
   ]
  },
  {
   "attachments": {},
   "cell_type": "markdown",
   "metadata": {},
   "source": [
    "### Transform\n",
    "- Drop unnecessary columns\n",
    "- Rename columns for clarity\n",
    "- Remove duplicate data"
   ]
  },
  {
   "cell_type": "code",
   "execution_count": null,
   "metadata": {},
   "outputs": [],
   "source": [
    "# Drop unneeded columns from observation data\n",
    "\n",
    "# Specify the columns to be dropped\n",
    "columns_to_drop = ['obsValid', 'obsReviewed', 'exoticCategory']\n",
    "# Drop the specified columns from the DataFrame\n",
    "pa_observations_df = pa_observations_df.drop(columns=columns_to_drop)"
   ]
  },
  {
   "cell_type": "code",
   "execution_count": null,
   "metadata": {},
   "outputs": [],
   "source": [
    "# Rename columns for clarity in observation data\n",
    "pa_observations_df = pa_observations_df.rename(columns={'speciesCode': 'species_code', 'comName': 'common_name', 'sciName': 'scientific_name', \n",
    "                                                        'locId': 'location_id', 'locName': 'location_name', 'obsDt' : 'observation_date', \n",
    "                                                        'howMany': 'quantity_observed', 'lat': 'latitude', 'lng': 'longitude', \n",
    "                                                        'locationPrivate': 'location_private', 'subId': 'submission_id'})"
   ]
  },
  {
   "cell_type": "code",
   "execution_count": null,
   "metadata": {},
   "outputs": [],
   "source": [
    "# Remove duplicate entries from DataFrame\n",
    "pa_observations_deduplicated_df = pa_observations_df.drop_duplicates(keep='first')\n",
    "pa_observations_deduplicated_df.to_csv('recent_observations.csv', index=False)"
   ]
  },
  {
   "cell_type": "code",
   "execution_count": null,
   "metadata": {},
   "outputs": [],
   "source": [
    "# Transform NaN values in the 'Quantity_Observed' column to a default value of 1\n",
    "pa_observations_deduplicated_df['quantity_observed'].fillna(1, inplace=True)"
   ]
  },
  {
   "cell_type": "code",
   "execution_count": null,
   "metadata": {},
   "outputs": [],
   "source": [
    "print(pa_observations_deduplicated_df.head())"
   ]
  },
  {
   "attachments": {},
   "cell_type": "markdown",
   "metadata": {},
   "source": [
    "### Write/append data to CSV files"
   ]
  },
  {
   "cell_type": "code",
   "execution_count": null,
   "metadata": {},
   "outputs": [],
   "source": [
    "# Append de-duplicated recent observations data to a CSV file\n",
    "import csv\n",
    "pa_observations_deduplicated_df.to_csv('recent_observations.csv', mode='a', header=True, index=False)"
   ]
  },
  {
   "cell_type": "markdown",
   "metadata": {},
   "source": [
    "### Write observation data from Pandas DataFrame to SQLite database"
   ]
  },
  {
   "cell_type": "markdown",
   "metadata": {},
   "source": [
    "#### Create SQLite Database"
   ]
  },
  {
   "cell_type": "code",
   "execution_count": null,
   "metadata": {},
   "outputs": [],
   "source": [
    "import sqlite3\n",
    "\n",
    "# Specify column names\n",
    "column_names = ['species_code', 'common_name', 'scientific_name', 'location_id', 'location_name',\n",
    "                'observation_date', 'quantity_observed', 'latitude', 'longitude', 'location_private', 'submission_id']\n",
    "\n",
    "connection = sqlite3.connect(\"pa-observation-data.db\")\n",
    "cursor = connection.cursor()\n",
    "\n",
    "cursor.execute(\"DROP TABLE IF EXISTS Observations;\")\n",
    "\n",
    "# Create the table with the appropriate columns\n",
    "create_table_query = \"CREATE TABLE Observations ({})\".format(\", \".join(column_names))\n",
    "cursor.execute(create_table_query)"
   ]
  },
  {
   "cell_type": "markdown",
   "metadata": {},
   "source": [
    "#### Write data to database"
   ]
  },
  {
   "cell_type": "code",
   "execution_count": null,
   "metadata": {},
   "outputs": [],
   "source": [
    "# Insert values from the DataFrame into the table\n",
    "for i in range(len(pa_observations_deduplicated_df)):\n",
    "    cursor.execute(\"INSERT INTO Observations VALUES (?, ?, ?, ?, ?, ?, ?, ?, ?, ?, ?)\", pa_observations_deduplicated_df.iloc[i])\n",
    "\n",
    "connection.commit()\n",
    "connection.close()"
   ]
  },
  {
   "cell_type": "code",
   "execution_count": null,
   "metadata": {},
   "outputs": [],
   "source": [
    "# home = os.environ.get('LOCATION')\n",
    "# pa_observations_df[(pa_observations_df.Location_ID == home)]\n",
    "\n",
    "pa_observations_deduplicated_df[(pa_observations_deduplicated_df.common_name == 'Pileated Woodpecker')]"
   ]
  },
  {
   "cell_type": "code",
   "execution_count": null,
   "metadata": {},
   "outputs": [],
   "source": [
    "pa_observations_deduplicated_df.dtypes"
   ]
  },
  {
   "cell_type": "markdown",
   "metadata": {},
   "source": [
    "### Write observation data from CSV file to PostgreSQL database"
   ]
  },
  {
   "cell_type": "code",
   "execution_count": null,
   "metadata": {},
   "outputs": [],
   "source": [
    "from sqlalchemy import create_engine\n",
    "\n",
    "# PostgreSQL database connection details from .env file\n",
    "host = os.getenv('PG_HOST')\n",
    "database = os.getenv('PG_DATABASE')\n",
    "user = os.getenv('PG_USER')\n",
    "password = os.getenv('PG_PASSWORD')\n",
    "\n",
    "# Create SQLAlchemy engine\n",
    "engine = create_engine(f'postgresql://{user}:{password}@{host}/{database}', pool_pre_ping=True)\n",
    "\n",
    "# Type conversion of Location_ID column to remove preceding L, if necessary, to store the number as an integer.\n",
    "pa_observations_deduplicated_df['location_id'] = pa_observations_deduplicated_df['location_id'].astype(str).apply(lambda x: int(x[1:]) if x.startswith('L') else int(x))\n",
    "\n",
    "table_name = \"recent_observations\"\n",
    "try:\n",
    "    pa_observations_deduplicated_df.to_sql(table_name, engine, if_exists='append', index=False)\n",
    "    print(\"Data insertion successful!\")\n",
    "except Exception as e:\n",
    "    print(\"An error occurred during data insertion:\", str(e))"
   ]
  }
 ],
 "metadata": {
  "kernelspec": {
   "display_name": "Python 3 (ipykernel)",
   "language": "python",
   "name": "python3"
  },
  "language_info": {
   "codemirror_mode": {
    "name": "ipython",
    "version": 3
   },
   "file_extension": ".py",
   "mimetype": "text/x-python",
   "name": "python",
   "nbconvert_exporter": "python",
   "pygments_lexer": "ipython3",
   "version": "3.11.3"
  }
 },
 "nbformat": 4,
 "nbformat_minor": 2
}
