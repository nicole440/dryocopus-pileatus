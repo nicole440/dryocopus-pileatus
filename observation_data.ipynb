{
 "cells": [
  {
   "cell_type": "markdown",
   "metadata": {},
   "source": [
    "# Bird Observation Data"
   ]
  },
  {
   "cell_type": "markdown",
   "metadata": {},
   "source": [
    "### Import libraries and configure environment variable"
   ]
  },
  {
   "cell_type": "code",
   "execution_count": 68,
   "metadata": {},
   "outputs": [],
   "source": [
    "import requests\n",
    "import pandas as pd\n",
    "import os\n",
    "\n",
    "from dotenv import load_dotenv\n",
    "load_dotenv()\n",
    "api_key = os.environ.get('EBIRD_API_KEY')"
   ]
  },
  {
   "cell_type": "markdown",
   "metadata": {},
   "source": [
    "### GET Requests to eBird API"
   ]
  },
  {
   "cell_type": "code",
   "execution_count": 69,
   "metadata": {},
   "outputs": [],
   "source": [
    "# Fetches all recent recorded observations in PA\n",
    "recent_observations_url = 'https://api.ebird.org/v2/data/obs/US-PA/recent'\n",
    "recent_observations_params = {'key': os.environ.get('EBIRD_API_KEY')}\n",
    "recent_observations = requests.get(recent_observations_url, params=recent_observations_params)\n",
    "\n",
    "# Handle potential JSONDecodeError\n",
    "try:\n",
    "    recent_observations_data = recent_observations.json()\n",
    "except requests.exceptions.JSONDecodeError:\n",
    "    print(\"Error decoding JSON response for recent_observations:\")\n",
    "    print(recent_observations.text)\n",
    "    exit(1)"
   ]
  },
  {
   "cell_type": "markdown",
   "metadata": {},
   "source": [
    "### Create DataFrames"
   ]
  },
  {
   "cell_type": "code",
   "execution_count": 70,
   "metadata": {},
   "outputs": [],
   "source": [
    "# Create a DataFrame to hold API response data\n",
    "pa_observations_df = pd.DataFrame(recent_observations_data)"
   ]
  },
  {
   "attachments": {},
   "cell_type": "markdown",
   "metadata": {},
   "source": [
    "### Transform\n",
    "- Drop unnecessary columns\n",
    "- Rename columns for clarity\n",
    "- Remove duplicate data"
   ]
  },
  {
   "cell_type": "code",
   "execution_count": 71,
   "metadata": {},
   "outputs": [],
   "source": [
    "# Drop unneeded columns from observation data\n",
    "\n",
    "# Specify the columns to be dropped\n",
    "columns_to_drop = ['obsValid', 'obsReviewed', 'subId', 'exoticCategory']\n",
    "# Drop the specified columns from the DataFrame\n",
    "pa_observations_df = pa_observations_df.drop(columns=columns_to_drop)"
   ]
  },
  {
   "cell_type": "code",
   "execution_count": 72,
   "metadata": {},
   "outputs": [],
   "source": [
    "# Rename columns for clarity in observation data\n",
    "pa_observations_df = pa_observations_df.rename(columns={'speciesCode': 'species_code', 'comName': 'common_name', 'sciName': 'scientific_name', \n",
    "                                                        'locId': 'location_id', 'locName': 'location_name', 'obsDt' : 'observation_date', \n",
    "                                                        'howMany': 'quantity_observed', 'lat': 'latitude', 'lng': 'longitude', \n",
    "                                                        'locationPrivate': 'location_private'})"
   ]
  },
  {
   "cell_type": "code",
   "execution_count": 73,
   "metadata": {},
   "outputs": [],
   "source": [
    "# Remove duplicate entries from DataFrame\n",
    "pa_observations_deduplicated_df = pa_observations_df.drop_duplicates(keep='first')\n",
    "pa_observations_deduplicated_df.to_csv('recent_observations.csv', index=False)"
   ]
  },
  {
   "cell_type": "code",
   "execution_count": 74,
   "metadata": {},
   "outputs": [],
   "source": [
    "# Transform NaN values in the 'Quantity_Observed' column to a default value of 1\n",
    "pa_observations_deduplicated_df['quantity_observed'].fillna(1, inplace=True)"
   ]
  },
  {
   "cell_type": "code",
   "execution_count": 75,
   "metadata": {},
   "outputs": [
    {
     "name": "stdout",
     "output_type": "stream",
     "text": [
      "  species_code               common_name         scientific_name location_id   \n",
      "0       grycat              Gray Catbird  Dumetella carolinensis     L663550  \\\n",
      "1       doccor  Double-crested Cormorant     Nannopterum auritum     L663550   \n",
      "2       houfin               House Finch    Haemorhous mexicanus   L21120016   \n",
      "3       rebwoo    Red-bellied Woodpecker    Melanerpes carolinus   L21120016   \n",
      "4       amegfi        American Goldfinch          Spinus tristis     L601577   \n",
      "\n",
      "                                       location_name  observation_date   \n",
      "0                                        Keystone SP  2023-08-14 11:50  \\\n",
      "1                                        Keystone SP  2023-08-14 11:50   \n",
      "2     Hunters Creek--North Marsh (restricted access)  2023-08-14 11:45   \n",
      "3     Hunters Creek--North Marsh (restricted access)  2023-08-14 11:45   \n",
      "4  Tioga-Hammond Lakes--Ives Run Rec. Area--West ...  2023-08-14 11:45   \n",
      "\n",
      "   quantity_observed   latitude  longitude  location_private  \n",
      "0                1.0  40.372623 -79.384525             False  \n",
      "1                1.0  40.372623 -79.384525             False  \n",
      "2                2.0  39.850341 -75.520709              True  \n",
      "3                1.0  39.850341 -75.520709              True  \n",
      "4                1.0  41.883173 -77.187849             False  \n"
     ]
    }
   ],
   "source": [
    "print(pa_observations_deduplicated_df.head())"
   ]
  },
  {
   "attachments": {},
   "cell_type": "markdown",
   "metadata": {},
   "source": [
    "### Write/append data to CSV files"
   ]
  },
  {
   "cell_type": "code",
   "execution_count": 76,
   "metadata": {},
   "outputs": [],
   "source": [
    "# Append de-duplicated recent observations data to a CSV file\n",
    "import csv\n",
    "pa_observations_deduplicated_df.to_csv('recent_observations.csv', mode='a', header=True, index=False)"
   ]
  },
  {
   "cell_type": "markdown",
   "metadata": {},
   "source": [
    "### Write observation data from Pandas DataFrame to SQLite database"
   ]
  },
  {
   "cell_type": "markdown",
   "metadata": {},
   "source": [
    "#### Create SQLite Database"
   ]
  },
  {
   "cell_type": "code",
   "execution_count": 77,
   "metadata": {},
   "outputs": [
    {
     "data": {
      "text/plain": [
       "<sqlite3.Cursor at 0x18b5c6137c0>"
      ]
     },
     "execution_count": 77,
     "metadata": {},
     "output_type": "execute_result"
    }
   ],
   "source": [
    "import sqlite3\n",
    "\n",
    "# Specify column names\n",
    "column_names = ['Species_Code', 'Common_Name', 'Scientific_Name', 'Location_ID', 'Location_Name',\n",
    "                'Observation_Date', 'Quantity_Observed', 'Latitude', 'Longitude', 'Location_Private']\n",
    "\n",
    "connection = sqlite3.connect(\"pa-observation-data.db\")\n",
    "cursor = connection.cursor()\n",
    "\n",
    "cursor.execute(\"DROP TABLE IF EXISTS Observations;\")\n",
    "\n",
    "# Create the table with the appropriate columns\n",
    "create_table_query = \"CREATE TABLE Observations ({})\".format(\", \".join(column_names))\n",
    "cursor.execute(create_table_query)"
   ]
  },
  {
   "cell_type": "markdown",
   "metadata": {},
   "source": [
    "#### Write data to database"
   ]
  },
  {
   "cell_type": "code",
   "execution_count": 78,
   "metadata": {},
   "outputs": [],
   "source": [
    "# Insert values from the DataFrame into the table\n",
    "for i in range(len(pa_observations_deduplicated_df)):\n",
    "    cursor.execute(\"INSERT INTO Observations VALUES (?, ?, ?, ?, ?, ?, ?, ?, ?, ?)\", pa_observations_deduplicated_df.iloc[i])\n",
    "\n",
    "connection.commit()\n",
    "connection.close()"
   ]
  },
  {
   "cell_type": "code",
   "execution_count": 79,
   "metadata": {},
   "outputs": [
    {
     "data": {
      "text/html": [
       "<div>\n",
       "<style scoped>\n",
       "    .dataframe tbody tr th:only-of-type {\n",
       "        vertical-align: middle;\n",
       "    }\n",
       "\n",
       "    .dataframe tbody tr th {\n",
       "        vertical-align: top;\n",
       "    }\n",
       "\n",
       "    .dataframe thead th {\n",
       "        text-align: right;\n",
       "    }\n",
       "</style>\n",
       "<table border=\"1\" class=\"dataframe\">\n",
       "  <thead>\n",
       "    <tr style=\"text-align: right;\">\n",
       "      <th></th>\n",
       "      <th>species_code</th>\n",
       "      <th>common_name</th>\n",
       "      <th>scientific_name</th>\n",
       "      <th>location_id</th>\n",
       "      <th>location_name</th>\n",
       "      <th>observation_date</th>\n",
       "      <th>quantity_observed</th>\n",
       "      <th>latitude</th>\n",
       "      <th>longitude</th>\n",
       "      <th>location_private</th>\n",
       "    </tr>\n",
       "  </thead>\n",
       "  <tbody>\n",
       "    <tr>\n",
       "      <th>90</th>\n",
       "      <td>pilwoo</td>\n",
       "      <td>Pileated Woodpecker</td>\n",
       "      <td>Dryocopus pileatus</td>\n",
       "      <td>L4043684</td>\n",
       "      <td>Gifford Pinchot SP--Beaver Creek Area</td>\n",
       "      <td>2023-08-14 09:25</td>\n",
       "      <td>1.0</td>\n",
       "      <td>40.068702</td>\n",
       "      <td>-76.908423</td>\n",
       "      <td>False</td>\n",
       "    </tr>\n",
       "  </tbody>\n",
       "</table>\n",
       "</div>"
      ],
      "text/plain": [
       "   species_code          common_name     scientific_name location_id   \n",
       "90       pilwoo  Pileated Woodpecker  Dryocopus pileatus    L4043684  \\\n",
       "\n",
       "                            location_name  observation_date   \n",
       "90  Gifford Pinchot SP--Beaver Creek Area  2023-08-14 09:25  \\\n",
       "\n",
       "    quantity_observed   latitude  longitude  location_private  \n",
       "90                1.0  40.068702 -76.908423             False  "
      ]
     },
     "execution_count": 79,
     "metadata": {},
     "output_type": "execute_result"
    }
   ],
   "source": [
    "# home = os.environ.get('LOCATION')\n",
    "# pa_observations_df[(pa_observations_df.Location_ID == home)]\n",
    "\n",
    "pa_observations_deduplicated_df[(pa_observations_deduplicated_df.common_name == 'Pileated Woodpecker')]"
   ]
  },
  {
   "cell_type": "code",
   "execution_count": 80,
   "metadata": {},
   "outputs": [
    {
     "data": {
      "text/plain": [
       "species_code          object\n",
       "common_name           object\n",
       "scientific_name       object\n",
       "location_id           object\n",
       "location_name         object\n",
       "observation_date      object\n",
       "quantity_observed    float64\n",
       "latitude             float64\n",
       "longitude            float64\n",
       "location_private        bool\n",
       "dtype: object"
      ]
     },
     "execution_count": 80,
     "metadata": {},
     "output_type": "execute_result"
    }
   ],
   "source": [
    "pa_observations_deduplicated_df.dtypes"
   ]
  },
  {
   "cell_type": "markdown",
   "metadata": {},
   "source": [
    "### Write observation data from CSV file to PostgreSQL database"
   ]
  },
  {
   "cell_type": "code",
   "execution_count": 81,
   "metadata": {},
   "outputs": [
    {
     "name": "stdout",
     "output_type": "stream",
     "text": [
      "Data insertion successful!\n"
     ]
    }
   ],
   "source": [
    "from sqlalchemy import create_engine\n",
    "\n",
    "# PostgreSQL database connection details from .env file\n",
    "host = os.getenv('PG_HOST')\n",
    "database = os.getenv('PG_DATABASE')\n",
    "user = os.getenv('PG_USER')\n",
    "password = os.getenv('PG_PASSWORD')\n",
    "\n",
    "# Create SQLAlchemy engine\n",
    "engine = create_engine(f'postgresql://{user}:{password}@{host}/{database}', pool_pre_ping=True)\n",
    "\n",
    "# Type conversion of Location_ID column to remove preceding L, if necessary, to store the number as an integer.\n",
    "pa_observations_deduplicated_df['location_id'] = pa_observations_deduplicated_df['location_id'].astype(str).apply(lambda x: int(x[1:]) if x.startswith('L') else int(x))\n",
    "\n",
    "table_name = \"recent_observations\"\n",
    "try:\n",
    "    pa_observations_deduplicated_df.to_sql(table_name, engine, if_exists='replace', index=False)\n",
    "    print(\"Data insertion successful!\")\n",
    "except Exception as e:\n",
    "    print(\"An error occurred during data insertion:\", str(e))"
   ]
  }
 ],
 "metadata": {
  "kernelspec": {
   "display_name": "Python 3 (ipykernel)",
   "language": "python",
   "name": "python3"
  },
  "language_info": {
   "codemirror_mode": {
    "name": "ipython",
    "version": 3
   },
   "file_extension": ".py",
   "mimetype": "text/x-python",
   "name": "python",
   "nbconvert_exporter": "python",
   "pygments_lexer": "ipython3",
   "version": "3.11.3"
  }
 },
 "nbformat": 4,
 "nbformat_minor": 2
}
